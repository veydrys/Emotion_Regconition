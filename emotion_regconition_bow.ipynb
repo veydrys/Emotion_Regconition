{
 "cells": [
  {
   "cell_type": "code",
   "execution_count": 5,
   "metadata": {},
   "outputs": [],
   "source": [
    "import torch\n",
    "import pandas as pd\n",
    "from torch.utils.data import DataLoader, Dataset\n",
    "import torch.nn as nn\n",
    "import torch.optim as optim\n",
    "import torch.nn.functional as F\n",
    "from sklearn.model_selection import train_test_split\n",
    "import re\n",
    "import numpy as np"
   ]
  },
  {
   "cell_type": "code",
   "execution_count": 6,
   "metadata": {},
   "outputs": [],
   "source": [
    "device = torch.device(\"cuda\" if torch.cuda.is_available() else \"cpu\")"
   ]
  },
  {
   "cell_type": "code",
   "execution_count": 7,
   "metadata": {},
   "outputs": [],
   "source": [
    "data = pd.read_csv(\"merged_training.csv\")\n",
    "label_mapping = {\"joy\": 0, \"sadness\": 1, \"anger\": 2, \"fear\": 3, \"love\": 4, \"surprise\": 5}\n",
    "data[\"label_encoded\"] = data[\"label\"].map(label_mapping)\n",
    "def tokenizer(text):\n",
    "    text = re.sub(r\"[^\\w\\s]\", \"\", text.lower())\n",
    "    return text.split()\n",
    "vocab = {\"<pad>\": 0, \"<UNK>\": 1}\n",
    "for sentence in data[\"text\"].values:\n",
    "    for word in tokenizer(sentence):\n",
    "        if word not in vocab:\n",
    "            vocab[word] = len(vocab)\n",
    "def encode(sentence):\n",
    "    return [vocab.get(word, vocab[\"<UNK>\"]) for word in tokenizer(sentence)]"
   ]
  },
  {
   "cell_type": "code",
   "execution_count": 8,
   "metadata": {},
   "outputs": [],
   "source": [
    "class TextDataset(Dataset):\n",
    "    def __init__(self, data):\n",
    "        self.texts = [torch.tensor(encode(sentence), dtype=torch.long) for sentence in data[\"text\"]]\n",
    "        self.labels = torch.tensor(data[\"label_encoded\"].values, dtype=torch.int64)\n",
    "    def __len__(self):\n",
    "        return len(self.texts)\n",
    "    \n",
    "    def __getitem__(self, idx):\n",
    "        return self.texts[idx], self.labels[idx]\n",
    "dataset = TextDataset(data)\n",
    "dataloader = DataLoader(dataset=dataset, batch_size=32, collate_fn=lambda x: tuple(zip(*x)))"
   ]
  },
  {
   "cell_type": "code",
   "execution_count": 9,
   "metadata": {},
   "outputs": [],
   "source": [
    "class TextClassifier(nn.Module):\n",
    "    def __init__(self, vocab_size, input_dim = 16, output_dim = 32, classes = 6):\n",
    "        super(TextClassifier, self).__init__()\n",
    "        self.embedding = nn.Embedding(vocab_size, input_dim)\n",
    "        self.fc1 = nn.Linear(input_dim, output_dim)\n",
    "        self.fc2 = nn.Linear(output_dim, classes)\n",
    "        self.relu = nn.ReLU()\n",
    "    def forward(self, x):\n",
    "        x = self.embedding(x).mean(dim=1)\n",
    "        x = self.relu(self.fc1(x))\n",
    "        x = self.fc2(x)\n",
    "        return x"
   ]
  },
  {
   "cell_type": "code",
   "execution_count": 10,
   "metadata": {},
   "outputs": [
    {
     "name": "stdout",
     "output_type": "stream",
     "text": [
      "Epoch 1/3, Loss: 0.3188, Accuracy: 87.02%\n",
      "Epoch 2/3, Loss: 0.1809, Accuracy: 90.79%\n",
      "Epoch 3/3, Loss: 0.1634, Accuracy: 91.41%\n"
     ]
    }
   ],
   "source": [
    "vocab_size = len(vocab)\n",
    "model = TextClassifier(vocab_size).to(device)\n",
    "criterion = nn.CrossEntropyLoss()\n",
    "optimizer = optim.Adam(model.parameters(), lr=0.01)\n",
    "num_epochs = 3\n",
    "for epoch in range(num_epochs):\n",
    "    total_loss = 0.0\n",
    "    correct = 0\n",
    "    total_samples = 0\n",
    "    for sentences, labels in dataloader:\n",
    "        sentences = torch.nn.utils.rnn.pad_sequence(sentences, batch_first=True).to(device)\n",
    "        labels = torch.tensor(labels, dtype=torch.int64).to(device)\n",
    "        optimizer.zero_grad()\n",
    "        outputs = model(sentences).squeeze()\n",
    "        loss = criterion(outputs, labels)\n",
    "        loss.backward()\n",
    "        optimizer.step()\n",
    "        total_loss += loss.item()\n",
    "        predictions = torch.argmax(outputs, dim=1)\n",
    "        correct += torch.eq(predictions, labels).sum().item()\n",
    "        total_samples += labels.size(0)\n",
    "    accuracy = (correct / total_samples) * 100\n",
    "    avg_loss = total_loss / len(dataloader)\n",
    "    print(f\"Epoch {epoch+1}/{num_epochs}, Loss: {avg_loss:.4f}, Accuracy: {accuracy:.2f}%\")"
   ]
  },
  {
   "cell_type": "code",
   "execution_count": 11,
   "metadata": {},
   "outputs": [
    {
     "name": "stdout",
     "output_type": "stream",
     "text": [
      "joy\n",
      "joy\n",
      "joy\n",
      "joy\n",
      "joy\n",
      "----\n",
      "sadness\n",
      "sadness\n",
      "sadness\n",
      "fear\n",
      "sadness\n",
      "----\n",
      "anger\n",
      "joy\n",
      "anger\n",
      "anger\n",
      "sadness\n",
      "----\n",
      "fear\n",
      "fear\n",
      "joy\n",
      "fear\n",
      "love\n",
      "----\n"
     ]
    }
   ],
   "source": [
    "def predict(text, model, vocab, device):\n",
    "    model.eval()\n",
    "    tokens = [vocab.get(word, vocab[\"<UNK>\"]) for word in tokenizer(text)]\n",
    "    input_tensor = torch.tensor(tokens, dtype=torch.long).unsqueeze(0).to(device)\n",
    "    with torch.no_grad():\n",
    "        output = model(input_tensor)\n",
    "    predicted_label = torch.argmax(output, dim=1).item()\n",
    "    return predicted_label\n",
    "label_arr = [\"joy\", \"sadness\", \"anger\", \"fear\", \"love\", \"surprise\"]\n",
    "test_sentences = [\n",
    "    # Joy (Happy)\n",
    "    \"Today is such a wonderful day!\", \n",
    "    \"I feel so happy to see my old friend again.\", \n",
    "    \"Winning this competition makes me ecstatic!\", \n",
    "    \"This food is so delicious, I love it!\", \n",
    "    \"I received a surprise gift, I'm so happy!\", \n",
    "\n",
    "    # Sadness (Sad)\n",
    "    \"I feel so lonely and lost.\", \n",
    "    \"Today is a terrible day for me.\", \n",
    "    \"I miss the old days, it makes me sad.\", \n",
    "    \"It's heartbreaking to say goodbye to someone you love.\", \n",
    "    \"I failed my exam, I'm really upset.\", \n",
    "\n",
    "    # Anger (Mad)\n",
    "    \"I'm so angry that I was lied to!\", \n",
    "    \"Stop bothering me!\", \n",
    "    \"I can't stand this unfairness anymore.\", \n",
    "    \"Why would you do that? I'm really mad!\", \n",
    "    \"I've warned them, but they still won't listen!\", \n",
    "\n",
    "    # Fear (Scared)\n",
    "    \"I'm nervous about my exam tomorrow.\", \n",
    "    \"It's so dark in here, I'm scared.\", \n",
    "    \"I have no idea what to do in this situation.\", \n",
    "    \"That sound was really terrifying!\", \n",
    "    \"I'm afraid of losing my loved ones.\"\n",
    "]\n",
    "dem = 0\n",
    "for text in test_sentences:\n",
    "    dem+=1\n",
    "    pred = predict(text, model, vocab, device)\n",
    "    print(label_arr[pred])\n",
    "    if (dem == 5):\n",
    "        print(\"----\")\n",
    "        dem = 0"
   ]
  }
 ],
 "metadata": {
  "kernelspec": {
   "display_name": "Python 3",
   "language": "python",
   "name": "python3"
  },
  "language_info": {
   "codemirror_mode": {
    "name": "ipython",
    "version": 3
   },
   "file_extension": ".py",
   "mimetype": "text/x-python",
   "name": "python",
   "nbconvert_exporter": "python",
   "pygments_lexer": "ipython3",
   "version": "3.10.0"
  }
 },
 "nbformat": 4,
 "nbformat_minor": 2
}
